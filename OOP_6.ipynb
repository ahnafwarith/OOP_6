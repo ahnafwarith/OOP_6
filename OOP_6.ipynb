{
  "nbformat": 4,
  "nbformat_minor": 0,
  "metadata": {
    "colab": {
      "name": "OOP_6.ipynb",
      "provenance": [],
      "collapsed_sections": [],
      "authorship_tag": "ABX9TyNeoGUKud5iyvySm52iHOJ4",
      "include_colab_link": true
    },
    "kernelspec": {
      "name": "python3",
      "display_name": "Python 3"
    },
    "language_info": {
      "name": "python"
    }
  },
  "cells": [
    {
      "cell_type": "markdown",
      "metadata": {
        "id": "view-in-github",
        "colab_type": "text"
      },
      "source": [
        "<a href=\"https://colab.research.google.com/github/ahnafwarith/OOP_6/blob/main/OOP_6.ipynb\" target=\"_parent\"><img src=\"https://colab.research.google.com/assets/colab-badge.svg\" alt=\"Open In Colab\"/></a>"
      ]
    },
    {
      "cell_type": "markdown",
      "source": [
        "# Task 1"
      ],
      "metadata": {
        "id": "Iv9Qxe6FI1ZU"
      }
    },
    {
      "cell_type": "code",
      "execution_count": null,
      "metadata": {
        "colab": {
          "base_uri": "https://localhost:8080/"
        },
        "id": "h_eMSmHBIwm3",
        "outputId": "11d22fcf-f873-4bc2-b7b3-2e3c0b9767b4"
      },
      "outputs": [
        {
          "output_type": "stream",
          "name": "stdout",
          "text": [
            "ID: 1\n",
            "Name: Samin\n",
            "Department: CSE\n",
            "Age: 21\n",
            "CGPA: 3.91\n",
            "-----------------------\n",
            "ID: 2\n",
            "Name: Fahim\n",
            "Department: ECE\n",
            "Age: 21\n",
            "CGPA: 3.85\n",
            "-----------------------\n",
            "ID: 3\n",
            "Name: Tahura\n",
            "Department: EEE\n",
            "Age: 22\n",
            "CGPA: 3.01\n",
            "-----------------------\n",
            "ID: 4\n",
            "Name: Sumaiya\n",
            "Department: BBA\n",
            "Age: 23\n",
            "CGPA: 3.96\n",
            "Class variables are class wise variables where instanse variables are object wise varibales.\n",
            "Class methods deal with class variables where first parameter is the class while \n",
            "instance methods deal with instance variables and the first parameter is the object memory location.\n"
          ]
        }
      ],
      "source": [
        "class Student:\n",
        "  ID = 0\n",
        "  def __init__(self,name,department,age,cgpa):\n",
        "    self.name = name\n",
        "    self.department = department\n",
        "    self.age = age \n",
        "    self.cgpa = cgpa\n",
        "    Student.ID += 1\n",
        "    self.ID = Student.ID\n",
        "  \n",
        "  def get_details(self):\n",
        "    print(f\"ID: {self.ID}\")\n",
        "    print(f\"Name: {self.name}\")\n",
        "    print(f\"Department: {self.department}\")\n",
        "    print(f\"Age: {self.age}\")\n",
        "    print(f\"CGPA: {self.cgpa}\")\n",
        "\n",
        "  @classmethod\n",
        "  def from_String(self,paraStr):\n",
        "    lst = paraStr.split('-')\n",
        "    obj = Student(lst[0],lst[1],lst[2],lst[3])\n",
        "    return obj\n",
        "\n",
        "#Write your code here for subtasks 1-6.\n",
        "s1 = Student(\"Samin\", \"CSE\", 21, 3.91)\n",
        "s1.get_details()\n",
        "print(\"-----------------------\")\n",
        "s2 = Student(\"Fahim\", \"ECE\", 21, 3.85)\n",
        "s2.get_details()\n",
        "print(\"-----------------------\")\n",
        "s3 = Student(\"Tahura\", \"EEE\", 22, 3.01)\n",
        "s3.get_details()\n",
        "print(\"-----------------------\")\n",
        "s4 = Student.from_String(\"Sumaiya-BBA-23-3.96\")\n",
        "s4.get_details()\n",
        "\n",
        "# Write the answer of subtask 5 here\n",
        "ansToSubTask5 =  '''Class variables are class wise variables where instanse variables are object wise varibales.'''\n",
        "# Write the answer of subtask 6 here\n",
        "ansToSubTask6 =  '''Class methods deal with class variables where first parameter is the class while \n",
        "instance methods deal with instance variables and the first parameter is the object memory location.'''\n",
        "\n",
        "print(ansToSubTask5)\n",
        "print(ansToSubTask6)\n",
        "\n",
        "#You are not allowed to change the code above\n",
        "\n",
        "# OUTPUT\n",
        "# ID: 1\n",
        "# Name: Samin\n",
        "# Department: CSE\n",
        "# Age: 21\n",
        "# CGPA: 3.91\n",
        "# -----------------------\n",
        "# ID: 2\n",
        "# Name: Fahim\n",
        "# Department: ECE\n",
        "# Age: 21\n",
        "# CGPA: 3.85\n",
        "# -----------------------\n",
        "# ID: 3\n",
        "# Name: Tahura\n",
        "# Department: EEE\n",
        "# Age: 22\n",
        "# CGPA: 3.01\n",
        "# -----------------------\n",
        "# ID: 4\n",
        "# Name: Sumaiya\n",
        "# Department: BBA\n",
        "# Age: 23\n",
        "# CGPA: 3.96"
      ]
    },
    {
      "cell_type": "markdown",
      "source": [
        "# Task 2"
      ],
      "metadata": {
        "id": "m5iGtAyiIzYc"
      }
    },
    {
      "cell_type": "code",
      "source": [
        "class Assassin:\n",
        "  count = 0\n",
        "  def __init__(self,name,rate):\n",
        "    self.name = name\n",
        "    if rate <= 100: self.assRate = rate\n",
        "    else: print('Success rate cannot exceed 100')\n",
        "    Assassin.count += 1\n",
        "\n",
        "  def printDetails(self):\n",
        "    print(f\"Name: {self.name}\")\n",
        "    print(f\"Success rate: {self.assRate}\")\n",
        "    print(f\"Total number of Assassin: {Assassin.count}\")\n",
        "  \n",
        "  @classmethod\n",
        "  def failureRate(cls,name,rate):\n",
        "    if 100-rate <= 100:obj = Assassin(name,100-rate)\n",
        "    else: obj = 'Cannot success rate cannot exceed 100'\n",
        "    return obj\n",
        "\n",
        "  @classmethod\n",
        "  def failurePercentage(cls,name,rateP):\n",
        "    if 100-int(rateP[:-1:]) <= 100: obj = Assassin(name,100-int(rateP[:-1:]))\n",
        "    else: obj = 'Cannot success rate cannot exceed 100'\n",
        "    return obj\n",
        "\n",
        "# Write your code here\n",
        "john_wick = Assassin('John Wick', 100)\n",
        "john_wick.printDetails()\n",
        "print('================================')\n",
        "nagisa = Assassin.failureRate(\"Nagisa\", 20)\n",
        "nagisa.printDetails()\n",
        "print('================================')\n",
        "akabane = Assassin.failurePercentage(\"Akabane\", \"10%\")\n",
        "akabane.printDetails()\n",
        "\n",
        "# Output:\n",
        "# Name: John Wick\n",
        "# Success rate: 100%\n",
        "# Total number of Assassin: 1\n",
        "# ============================\n",
        "# Name: Nagisa\n",
        "# Success rate: 80%\n",
        "# Total number of Assassin: 2\n",
        "# ============================\n",
        "# Name: Akabane\n",
        "# Success rate: 90%\n",
        "# Total number of Assassin: 3"
      ],
      "metadata": {
        "id": "lbBCVRSRI2XE",
        "colab": {
          "base_uri": "https://localhost:8080/"
        },
        "outputId": "c9df7ac6-5f00-4713-a121-4a28ee2bc80d"
      },
      "execution_count": 7,
      "outputs": [
        {
          "output_type": "stream",
          "name": "stdout",
          "text": [
            "Name: John Wick\n",
            "Success rate: 100\n",
            "Total number of Assassin: 1\n",
            "================================\n",
            "Name: Nagisa\n",
            "Success rate: 80\n",
            "Total number of Assassin: 2\n",
            "================================\n",
            "Name: Akabane\n",
            "Success rate: 90\n",
            "Total number of Assassin: 3\n"
          ]
        }
      ]
    },
    {
      "cell_type": "markdown",
      "source": [
        "# Task 3"
      ],
      "metadata": {
        "id": "MIRllltsIz4M"
      }
    },
    {
      "cell_type": "code",
      "source": [
        ""
      ],
      "metadata": {
        "id": "fNnpQ_zMI26t"
      },
      "execution_count": null,
      "outputs": []
    },
    {
      "cell_type": "markdown",
      "source": [
        "# Task 4"
      ],
      "metadata": {
        "id": "n0hL4mrqJHz0"
      }
    },
    {
      "cell_type": "code",
      "source": [
        ""
      ],
      "metadata": {
        "id": "Pg4lmwX8JDzR"
      },
      "execution_count": null,
      "outputs": []
    },
    {
      "cell_type": "markdown",
      "source": [
        "# Task 5"
      ],
      "metadata": {
        "id": "yxmmn1trJIH8"
      }
    },
    {
      "cell_type": "code",
      "source": [
        ""
      ],
      "metadata": {
        "id": "xxDA91qJJD0_"
      },
      "execution_count": null,
      "outputs": []
    },
    {
      "cell_type": "markdown",
      "source": [
        "# Task 6"
      ],
      "metadata": {
        "id": "6gBfH8pPJIxV"
      }
    },
    {
      "cell_type": "code",
      "source": [
        ""
      ],
      "metadata": {
        "id": "S-B1a3z7JD4p"
      },
      "execution_count": null,
      "outputs": []
    },
    {
      "cell_type": "markdown",
      "source": [
        "# Task 7"
      ],
      "metadata": {
        "id": "TxjDADlVJJKE"
      }
    },
    {
      "cell_type": "code",
      "source": [
        ""
      ],
      "metadata": {
        "id": "BV96elsJJD61"
      },
      "execution_count": null,
      "outputs": []
    },
    {
      "cell_type": "markdown",
      "source": [
        "# Task 8"
      ],
      "metadata": {
        "id": "Zec0RF7eJJqs"
      }
    },
    {
      "cell_type": "code",
      "source": [
        ""
      ],
      "metadata": {
        "id": "DVdU66-PJD-A"
      },
      "execution_count": null,
      "outputs": []
    },
    {
      "cell_type": "markdown",
      "source": [
        "# Task 9"
      ],
      "metadata": {
        "id": "FnqBj2xvJKVl"
      }
    },
    {
      "cell_type": "code",
      "source": [
        "class Student:\n",
        "  bracuStudents = 0\n",
        "  otherStudents = 0\n",
        "  totalStudents = 0\n",
        "  def __init__(self,name,dept,school=\"BRAC University\"):\n",
        "    self.name = name\n",
        "    self.dept = dept\n",
        "    if school!=\"BRAC University\": \n",
        "      self.school = school\n",
        "      Student.otherStudents += 1\n",
        "      Student.totalStudents += 1\n",
        "    else: \n",
        "      self.school = school\n",
        "      Student.bracuStudents += 1\n",
        "      Student.totalStudents += 1\n",
        "  def individualDetail(self):\n",
        "    print(f\"Name: {self.name}\")\n",
        "    print(f\"Department: {self.dept}\")\n",
        "    print(f\"Institution: {self.school}\")\n",
        "\n",
        "  @classmethod\n",
        "  def createStudent(cls,name,dept,school=\"BRAC University\"):\n",
        "    obj = Student(name,dept,school)\n",
        "    return obj\n",
        "\n",
        "  @classmethod\n",
        "  def printDetails(cls):\n",
        "    print(f\"Total Student(s): {cls.totalStudents}\")\n",
        "    print(f\"BRAC University Student(s): {cls.bracuStudents}\")\n",
        "    print(f\"Other Institution Student(s): {cls.otherStudents}\")\n",
        "\n",
        "# Write your code here\n",
        "Student.printDetails()\n",
        "print('#########################')\n",
        "mikasa = Student('Mikasa Ackerman', \"CSE\")\n",
        "mikasa.individualDetail()\n",
        "print('------------------------------------------')\n",
        "Student.printDetails()\n",
        "print('========================')\n",
        "harry = Student.createStudent('Harry Potter', \"Defence Against Dark Arts\", \"Hogwarts School\")\n",
        "harry.individualDetail()\n",
        "print('-------------------------------------------')\n",
        "Student.printDetails()\n",
        "print('=========================')\n",
        "levi = Student.createStudent(\"Levi Ackerman\", \"CSE\")\n",
        "levi.individualDetail()\n",
        "print('--------------------------------------------')\n",
        "Student.printDetails()\n",
        "\n",
        "# Output:\n",
        "# Total Student(s): 0\n",
        "# BRAC University Student(s): 0\n",
        "# Other Institution Student(s): 0\n",
        "# ################################\n",
        "# Name: Mikasa Ackerman\n",
        "# Department: CSE\n",
        "# Institution: BRAC University\n",
        "# ------------------------------------------------------\n",
        "# Total Student(s): 1\n",
        "# BRAC University Student(s): 1\n",
        "# Other Institution Student(s): 0\n",
        "# ===============================\n",
        "# Name: Harry Potter\n",
        "# Department: Defence Against Dark Arts\n",
        "# Institution: Hogwarts School\n",
        "# ------------------------------------------------------\n",
        "# Total Student(s): 2\n",
        "# BRAC University Student(s): 1\n",
        "# Other Institution Student(s): 1\n",
        "# ===============================\n",
        "# Name: Levi Ackerman\n",
        "# Department: CSE\n",
        "# Institution: BRAC University\n",
        "# ------------------------------------------------------\n",
        "# Total Student(s): 3\n",
        "# BRAC University Student(s): 2\n",
        "# Other Institution Student(s): 1"
      ],
      "metadata": {
        "id": "OBK6cO_yJEAv",
        "colab": {
          "base_uri": "https://localhost:8080/"
        },
        "outputId": "7818a5bd-5ae9-4275-d53b-56e4b413466a"
      },
      "execution_count": 14,
      "outputs": [
        {
          "output_type": "stream",
          "name": "stdout",
          "text": [
            "Total Student(s): 0\n",
            "BRAC University Student(s): 0\n",
            "Other Institution Student(s): 0\n",
            "#########################\n",
            "Name: Mikasa Ackerman\n",
            "Department: CSE\n",
            "Institution: BRAC University\n",
            "------------------------------------------\n",
            "Total Student(s): 1\n",
            "BRAC University Student(s): 1\n",
            "Other Institution Student(s): 0\n",
            "========================\n",
            "Name: Harry Potter\n",
            "Department: Defence Against Dark Arts\n",
            "Institution: Hogwarts School\n",
            "-------------------------------------------\n",
            "Total Student(s): 2\n",
            "BRAC University Student(s): 1\n",
            "Other Institution Student(s): 1\n",
            "=========================\n",
            "Name: Levi Ackerman\n",
            "Department: CSE\n",
            "Institution: BRAC University\n",
            "--------------------------------------------\n",
            "Total Student(s): 3\n",
            "BRAC University Student(s): 2\n",
            "Other Institution Student(s): 1\n"
          ]
        }
      ]
    },
    {
      "cell_type": "markdown",
      "source": [
        "# Task 10"
      ],
      "metadata": {
        "id": "weJmlLM0JK6M"
      }
    },
    {
      "cell_type": "code",
      "source": [
        ""
      ],
      "metadata": {
        "id": "-bo90jX2JECs"
      },
      "execution_count": null,
      "outputs": []
    }
  ]
}