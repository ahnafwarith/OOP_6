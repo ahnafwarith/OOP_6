{
  "nbformat": 4,
  "nbformat_minor": 0,
  "metadata": {
    "colab": {
      "name": "OOP_6.ipynb",
      "provenance": [],
      "collapsed_sections": [],
      "authorship_tag": "ABX9TyORmvEL6inv9JFKxVeJtvQ+",
      "include_colab_link": true
    },
    "kernelspec": {
      "name": "python3",
      "display_name": "Python 3"
    },
    "language_info": {
      "name": "python"
    }
  },
  "cells": [
    {
      "cell_type": "markdown",
      "metadata": {
        "id": "view-in-github",
        "colab_type": "text"
      },
      "source": [
        "<a href=\"https://colab.research.google.com/github/ahnafwarith/OOP_6/blob/main/OOP_6.ipynb\" target=\"_parent\"><img src=\"https://colab.research.google.com/assets/colab-badge.svg\" alt=\"Open In Colab\"/></a>"
      ]
    },
    {
      "cell_type": "markdown",
      "source": [
        "# Task 1"
      ],
      "metadata": {
        "id": "Iv9Qxe6FI1ZU"
      }
    },
    {
      "cell_type": "code",
      "execution_count": null,
      "metadata": {
        "colab": {
          "base_uri": "https://localhost:8080/"
        },
        "id": "h_eMSmHBIwm3",
        "outputId": "11d22fcf-f873-4bc2-b7b3-2e3c0b9767b4"
      },
      "outputs": [
        {
          "output_type": "stream",
          "name": "stdout",
          "text": [
            "ID: 1\n",
            "Name: Samin\n",
            "Department: CSE\n",
            "Age: 21\n",
            "CGPA: 3.91\n",
            "-----------------------\n",
            "ID: 2\n",
            "Name: Fahim\n",
            "Department: ECE\n",
            "Age: 21\n",
            "CGPA: 3.85\n",
            "-----------------------\n",
            "ID: 3\n",
            "Name: Tahura\n",
            "Department: EEE\n",
            "Age: 22\n",
            "CGPA: 3.01\n",
            "-----------------------\n",
            "ID: 4\n",
            "Name: Sumaiya\n",
            "Department: BBA\n",
            "Age: 23\n",
            "CGPA: 3.96\n",
            "Class variables are class wise variables where instanse variables are object wise varibales.\n",
            "Class methods deal with class variables where first parameter is the class while \n",
            "instance methods deal with instance variables and the first parameter is the object memory location.\n"
          ]
        }
      ],
      "source": [
        "class Student:\n",
        "  ID = 0\n",
        "  def __init__(self,name,department,age,cgpa):\n",
        "    self.name = name\n",
        "    self.department = department\n",
        "    self.age = age \n",
        "    self.cgpa = cgpa\n",
        "    Student.ID += 1\n",
        "    self.ID = Student.ID\n",
        "  \n",
        "  def get_details(self):\n",
        "    print(f\"ID: {self.ID}\")\n",
        "    print(f\"Name: {self.name}\")\n",
        "    print(f\"Department: {self.department}\")\n",
        "    print(f\"Age: {self.age}\")\n",
        "    print(f\"CGPA: {self.cgpa}\")\n",
        "\n",
        "  @classmethod\n",
        "  def from_String(self,paraStr):\n",
        "    lst = paraStr.split('-')\n",
        "    obj = Student(lst[0],lst[1],lst[2],lst[3])\n",
        "    return obj\n",
        "\n",
        "#Write your code here for subtasks 1-6.\n",
        "s1 = Student(\"Samin\", \"CSE\", 21, 3.91)\n",
        "s1.get_details()\n",
        "print(\"-----------------------\")\n",
        "s2 = Student(\"Fahim\", \"ECE\", 21, 3.85)\n",
        "s2.get_details()\n",
        "print(\"-----------------------\")\n",
        "s3 = Student(\"Tahura\", \"EEE\", 22, 3.01)\n",
        "s3.get_details()\n",
        "print(\"-----------------------\")\n",
        "s4 = Student.from_String(\"Sumaiya-BBA-23-3.96\")\n",
        "s4.get_details()\n",
        "\n",
        "# Write the answer of subtask 5 here\n",
        "ansToSubTask5 =  '''Class variables are class wise variables where instanse variables are object wise varibales.'''\n",
        "# Write the answer of subtask 6 here\n",
        "ansToSubTask6 =  '''Class methods deal with class variables where first parameter is the class while \n",
        "instance methods deal with instance variables and the first parameter is the object memory location.'''\n",
        "\n",
        "print(ansToSubTask5)\n",
        "print(ansToSubTask6)\n",
        "\n",
        "#You are not allowed to change the code above\n",
        "\n",
        "# OUTPUT\n",
        "# ID: 1\n",
        "# Name: Samin\n",
        "# Department: CSE\n",
        "# Age: 21\n",
        "# CGPA: 3.91\n",
        "# -----------------------\n",
        "# ID: 2\n",
        "# Name: Fahim\n",
        "# Department: ECE\n",
        "# Age: 21\n",
        "# CGPA: 3.85\n",
        "# -----------------------\n",
        "# ID: 3\n",
        "# Name: Tahura\n",
        "# Department: EEE\n",
        "# Age: 22\n",
        "# CGPA: 3.01\n",
        "# -----------------------\n",
        "# ID: 4\n",
        "# Name: Sumaiya\n",
        "# Department: BBA\n",
        "# Age: 23\n",
        "# CGPA: 3.96"
      ]
    },
    {
      "cell_type": "markdown",
      "source": [
        "# Task 2"
      ],
      "metadata": {
        "id": "m5iGtAyiIzYc"
      }
    },
    {
      "cell_type": "code",
      "source": [
        "class Assassin:\n",
        "  count = 0\n",
        "  def __init__(self,name,rate):\n",
        "    self.name = name\n",
        "    if rate <= 100: self.assRate = rate\n",
        "    else: print('Success rate cannot exceed 100')\n",
        "    Assassin.count += 1\n",
        "\n",
        "  def printDetails(self):\n",
        "    print(f\"Name: {self.name}\")\n",
        "    print(f\"Success rate: {self.assRate}\")\n",
        "    print(f\"Total number of Assassin: {Assassin.count}\")\n",
        "  \n",
        "  @classmethod\n",
        "  def failureRate(cls,name,rate):\n",
        "    if 100-rate <= 100:obj = Assassin(name,100-rate)\n",
        "    else: obj = 'Cannot success rate cannot exceed 100'\n",
        "    return obj\n",
        "\n",
        "  @classmethod\n",
        "  def failurePercentage(cls,name,rateP):\n",
        "    if 100-int(rateP[:-1:]) <= 100: obj = Assassin(name,100-int(rateP[:-1:]))\n",
        "    else: obj = 'Cannot success rate cannot exceed 100'\n",
        "    return obj\n",
        "\n",
        "# Write your code here\n",
        "john_wick = Assassin('John Wick', 100)\n",
        "john_wick.printDetails()\n",
        "print('================================')\n",
        "nagisa = Assassin.failureRate(\"Nagisa\", 20)\n",
        "nagisa.printDetails()\n",
        "print('================================')\n",
        "akabane = Assassin.failurePercentage(\"Akabane\", \"10%\")\n",
        "akabane.printDetails()\n",
        "\n",
        "# Output:\n",
        "# Name: John Wick\n",
        "# Success rate: 100%\n",
        "# Total number of Assassin: 1\n",
        "# ============================\n",
        "# Name: Nagisa\n",
        "# Success rate: 80%\n",
        "# Total number of Assassin: 2\n",
        "# ============================\n",
        "# Name: Akabane\n",
        "# Success rate: 90%\n",
        "# Total number of Assassin: 3"
      ],
      "metadata": {
        "id": "lbBCVRSRI2XE",
        "colab": {
          "base_uri": "https://localhost:8080/"
        },
        "outputId": "c9df7ac6-5f00-4713-a121-4a28ee2bc80d"
      },
      "execution_count": null,
      "outputs": [
        {
          "output_type": "stream",
          "name": "stdout",
          "text": [
            "Name: John Wick\n",
            "Success rate: 100\n",
            "Total number of Assassin: 1\n",
            "================================\n",
            "Name: Nagisa\n",
            "Success rate: 80\n",
            "Total number of Assassin: 2\n",
            "================================\n",
            "Name: Akabane\n",
            "Success rate: 90\n",
            "Total number of Assassin: 3\n"
          ]
        }
      ]
    },
    {
      "cell_type": "markdown",
      "source": [
        "# Task 3"
      ],
      "metadata": {
        "id": "MIRllltsIz4M"
      }
    },
    {
      "cell_type": "code",
      "source": [
        "class Passenger:\n",
        "  count = 0\n",
        "  def __init__(s,n):\n",
        "    s.name = n\n",
        "    s.fare = 450\n",
        "    Passenger.count += 1\n",
        "  \n",
        "  def set_bag_weight(s,x):\n",
        "    if x > 50:\n",
        "      s.fare += 100\n",
        "    elif x > 20:\n",
        "      s.fare += 50\n",
        "\n",
        "  def printDetail(s):\n",
        "    print(f\"Name: {s.name}\")\n",
        "    print(f\"Bus Fare: {s.fare} taka\")\n",
        "\n",
        "# Write your code here\n",
        "print(\"Total Passenger:\", Passenger.count)\n",
        "p1 = Passenger(\"Jack\")\n",
        "p1.set_bag_weight(90)\n",
        "p2 = Passenger(\"Carol\")\n",
        "p2.set_bag_weight(10)\n",
        "p3 = Passenger(\"Mike\")\n",
        "p3.set_bag_weight(25)\n",
        "print(\"=========================\")\n",
        "p1.printDetail()\n",
        "print(\"=========================\")\n",
        "p2.printDetail()\n",
        "print(\"=========================\")\n",
        "p3.printDetail()\n",
        "print(\"=========================\")\n",
        "print(\"Total Passenger:\", Passenger.count)\n",
        "\n",
        "# Output:\n",
        "# Total Passenger: 0\n",
        "# =========================\n",
        "# Name: Jack\n",
        "# Bus Fare: 550 taka\n",
        "# =========================\n",
        "# Name: Carol\n",
        "# Bus Fare: 450 taka\n",
        "# =========================\n",
        "# Name: Mike\n",
        "# Bus Fare: 500 taka\n",
        "# =========================\n",
        "# Total Passenger: 3"
      ],
      "metadata": {
        "id": "fNnpQ_zMI26t",
        "colab": {
          "base_uri": "https://localhost:8080/"
        },
        "outputId": "b6288476-3840-454d-fc47-14ce5c910b31"
      },
      "execution_count": null,
      "outputs": [
        {
          "output_type": "stream",
          "name": "stdout",
          "text": [
            "Total Passenger: 0\n",
            "=========================\n",
            "Name: Jack\n",
            "Bus Fare: 550 taka\n",
            "=========================\n",
            "Name: Carol\n",
            "Bus Fare: 450 taka\n",
            "=========================\n",
            "Name: Mike\n",
            "Bus Fare: 500 taka\n",
            "=========================\n",
            "Total Passenger: 3\n"
          ]
        }
      ]
    },
    {
      "cell_type": "markdown",
      "source": [
        "# Task 4"
      ],
      "metadata": {
        "id": "n0hL4mrqJHz0"
      }
    },
    {
      "cell_type": "code",
      "source": [
        "class Travel:\n",
        "  count = 0\n",
        "  def __init__(self,s,d):\n",
        "    Travel.count += 1\n",
        "    self.source = s\n",
        "    self.destination = d\n",
        "    self.time = '1:00'\n",
        "\n",
        "  def display_travel_info(self):\n",
        "    return f\"Source: {self.source}\\nDestination: {self.destination}\\nFlight Time: {self.time}\"\n",
        "\n",
        "  def set_time(self,t):\n",
        "    self.time = str(t) + ':00'\n",
        "\n",
        "  def set_source(self,s):\n",
        "    self.source = s\n",
        "\n",
        "  def set_destination(self,d):\n",
        "    self.destination = d\n",
        "\n",
        "# Write your code here\n",
        "print(\"No. of Traveller =\", Travel.count)\n",
        "print(\"=======================\")\n",
        "t1 = Travel(\"Dhaka\",\"India\")\n",
        "print(t1.display_travel_info())\n",
        "print(\"=======================\")\n",
        "t2 = Travel(\"Kuala Lampur\",\"Dhaka\")\n",
        "t2.set_time(23)\n",
        "print(t2.display_travel_info())\n",
        "print(\"=======================\")\n",
        "t3 = Travel(\"Dhaka\",\"New_Zealand\")\n",
        "t3.set_time(15)\n",
        "t3.set_destination(\"Germany\")\n",
        "print(t3.display_travel_info())\n",
        "print(\"=======================\")\n",
        "t4 = Travel(\"Dhaka\",\"India\")\n",
        "t4.set_time(9)\n",
        "t4.set_source(\"Malaysia\")\n",
        "t4.set_destination(\"Canada\")\n",
        "print(t4.display_travel_info())\n",
        "print(\"=======================\")\n",
        "print(\"No. of Traveller =\", Travel.count)\n",
        "\n",
        "# Output\n",
        "# No. of Traveller = 0\n",
        "# =======================\n",
        "# Source: Dhaka\n",
        "# Destination:India\n",
        "# Flight Time:1:00\n",
        "# =======================\n",
        "# Source: Kuala Lampur\n",
        "# Destination:Dhaka\n",
        "# Flight Time:23:00\n",
        "# =======================\n",
        "# Source: Dhaka\n",
        "# Destination:Germany\n",
        "# Flight Time:15:00\n",
        "# =======================\n",
        "# Source: Malaysia\n",
        "# Destination:Canada\n",
        "# Flight Time:9:00\n",
        "# =======================\n",
        "# No of Traveller = 4"
      ],
      "metadata": {
        "id": "Pg4lmwX8JDzR",
        "colab": {
          "base_uri": "https://localhost:8080/"
        },
        "outputId": "9672a4f4-69a4-4723-a172-d59214eeeb36"
      },
      "execution_count": 4,
      "outputs": [
        {
          "output_type": "stream",
          "name": "stdout",
          "text": [
            "No. of Traveller = 0\n",
            "=======================\n",
            "Source: Dhaka\n",
            "Destination: India\n",
            "Flight Time: 1:00\n",
            "=======================\n",
            "Source: Kuala Lampur\n",
            "Destination: Dhaka\n",
            "Flight Time: 23:00\n",
            "=======================\n",
            "Source: Dhaka\n",
            "Destination: Germany\n",
            "Flight Time: 15:00\n",
            "=======================\n",
            "Source: Malaysia\n",
            "Destination: Canada\n",
            "Flight Time: 9:00\n",
            "=======================\n",
            "No. of Traveller = 4\n"
          ]
        }
      ]
    },
    {
      "cell_type": "markdown",
      "source": [
        "# Task 5"
      ],
      "metadata": {
        "id": "yxmmn1trJIH8"
      }
    },
    {
      "cell_type": "code",
      "source": [
        "class Employee:\n",
        "  def __init__(self,name,p):\n",
        "    self.name = name\n",
        "    self.workingPeriod = p\n",
        "\n",
        "  @classmethod\n",
        "  def employeeByJoiningYear(cls,name,year):\n",
        "    working = 2022 - year\n",
        "    return Employee(name,working)\n",
        "\n",
        "  @staticmethod\n",
        "  def experienceCheck(period, gender):\n",
        "    if gender == 'male': pronoun = 'He' \n",
        "    else: pronoun = 'She'\n",
        "    if period > 2: return f\"{pronoun} is experienced\"\n",
        "    else: return f\"{pronoun} is not experienced\"\n",
        "      \n",
        "# Write your code here\n",
        "employee1 = Employee('Dororo', 3)\n",
        "employee2 = Employee.employeeByJoiningYear('Harry', 2016)\n",
        "print(employee1.workingPeriod)\n",
        "print(employee2.workingPeriod)\n",
        "print(employee1.name)\n",
        "print(employee2.name)\n",
        "print(Employee.experienceCheck(2, \"male\"))\n",
        "print(Employee.experienceCheck(3, \"female\"))\n",
        "\n",
        "# Output\n",
        "# 3\n",
        "# 6\n",
        "# Dororo\n",
        "# Harry\n",
        "# He is not experienced\n",
        "# She is experienced"
      ],
      "metadata": {
        "id": "xxDA91qJJD0_",
        "colab": {
          "base_uri": "https://localhost:8080/"
        },
        "outputId": "5513556d-a10e-45f0-bda5-06e3f0589ce4"
      },
      "execution_count": 8,
      "outputs": [
        {
          "output_type": "stream",
          "name": "stdout",
          "text": [
            "3\n",
            "6\n",
            "Dororo\n",
            "Harry\n",
            "He is not experienced\n",
            "She is experienced\n"
          ]
        }
      ]
    },
    {
      "cell_type": "markdown",
      "source": [
        "# Task 6"
      ],
      "metadata": {
        "id": "6gBfH8pPJIxV"
      }
    },
    {
      "cell_type": "code",
      "source": [
        "class Laptop:\n",
        "  laptopCount = 0\n",
        "  def __init__(self,name,count):\n",
        "    Laptop.laptopCount += count\n",
        "    self.name = name\n",
        "    self.count = count\n",
        "  \n",
        "  @staticmethod\n",
        "  def advantage():\n",
        "    print('Laptops are portable')\n",
        "\n",
        "  @classmethod\n",
        "  def resetCount(cls):\n",
        "    cls.laptopCount = 0\n",
        "# Write your code here\n",
        "lenovo = Laptop(\"Lenovo\", 5);\n",
        "dell = Laptop(\"Dell\", 7);\n",
        "print(lenovo.name, lenovo.count)\n",
        "print(dell.name, dell.count)\n",
        "print(\"Total number of Laptops\", Laptop.laptopCount)\n",
        "Laptop.advantage()\n",
        "Laptop.resetCount()\n",
        "print(\"Total number of Laptops\", Laptop.laptopCount)\n",
        "\n",
        "# Output\n",
        "# Lenovo 5\n",
        "# Dell 7\n",
        "# Total number of Laptops 12\n",
        "# Laptops are portable\n",
        "# Total number of Laptops 0"
      ],
      "metadata": {
        "id": "S-B1a3z7JD4p",
        "colab": {
          "base_uri": "https://localhost:8080/"
        },
        "outputId": "291f9350-0d66-4e15-eea0-c70d06c12173"
      },
      "execution_count": 12,
      "outputs": [
        {
          "output_type": "stream",
          "name": "stdout",
          "text": [
            "Lenovo 5\n",
            "Dell 7\n",
            "Total number of Laptops 12\n",
            "Laptops are portable\n",
            "Total number of Laptops 0\n"
          ]
        }
      ]
    },
    {
      "cell_type": "markdown",
      "source": [
        "# Task 7"
      ],
      "metadata": {
        "id": "TxjDADlVJJKE"
      }
    },
    {
      "cell_type": "code",
      "source": [
        "\n",
        "# Write your code here\n",
        "print(\"Total number of cats:\", Cat.Number_of_cats)\n",
        "c1 = Cat.no_parameter()\n",
        "c2 = Cat.first_parameter(\"Black\")\n",
        "c3 = Cat(\"Brown\", \"jumping\")\n",
        "c4 = Cat(\"Red\", \"purring\")\n",
        "c5 = Cat.second_parameter(\"playing\")\n",
        "print(\"=======================\")\n",
        "c1.printCat()\n",
        "c2.printCat()\n",
        "c3.printCat()\n",
        "c4.printCat()\n",
        "c5.printCat()\n",
        "c1.changeColor(\"Blue\")\n",
        "c3.changeColor(\"Purple\")\n",
        "c1.printCat()\n",
        "c3.printCat()\n",
        "print(\"=======================\")\n",
        "print(\"Total number of cats:\", Cat.Number_of_cats)\n",
        "\n",
        "# Output:\n",
        "# Total number of cats: 0\n",
        "# =======================\n",
        "# White cat is sitting\n",
        "# Black cat is sitting\n",
        "# Brown cat is jumping\n",
        "# Red cat is purring\n",
        "# Grey cat is playing\n",
        "# Blue cat is sitting\n",
        "# Purple cat is jumping\n",
        "# =======================\n",
        "# Total number of cats: 5"
      ],
      "metadata": {
        "id": "BV96elsJJD61"
      },
      "execution_count": null,
      "outputs": []
    },
    {
      "cell_type": "markdown",
      "source": [
        "# Task 8"
      ],
      "metadata": {
        "id": "Zec0RF7eJJqs"
      }
    },
    {
      "cell_type": "code",
      "source": [
        "\n",
        "# Write your code here\n",
        "c1 = Cylinder(0,0)\n",
        "Cylinder.area(c1.radius,c1.height)\n",
        "Cylinder.volume(c1.radius,c1.height)\n",
        "print(\"===============================\")\n",
        "c2 = Cylinder.swap(8,3)\n",
        "c2.area(c2.radius,c2.height)\n",
        "c2.volume(c2.radius,c2.height)\n",
        "print(\"===============================\")\n",
        "c3 = Cylinder.changeFormat(\"7-13\")\n",
        "c3.area(c3.radius,c3.height)\n",
        "c3.volume(c3.radius,c3.height)\n",
        "print(\"===============================\")\n",
        "Cylinder(0.3,5.56).area(Cylinder.radius,Cylinder.height)\n",
        "print(\"===============================\")\n",
        "Cylinder(3,5).volume(Cylinder.radius,Cylinder.height))\n",
        "\n",
        "# Output:\n",
        "# Default radius=5 and height=18.\n",
        "# Updated: radius=0 and height=0.\n",
        "# Area: 0.0\n",
        "# Volume: 0.0\n",
        "# ===============================\n",
        "# Default radius=0 and height=0.\n",
        "# Updated: radius=3 and height=8.\n",
        "# Area: 207.34511513692635\n",
        "# Volume: 226.1946710584651\n",
        "# ===============================\n",
        "# Default radius=3 and height=8.\n",
        "# Updated: radius=7.0 and height=13.0.\n",
        "# Area: 879.645943005142\n",
        "# Volume: 2001.1945203366981\n",
        "# ===============================\n",
        "# Default radius=7.0 and height=13.0.\n",
        "# Updated: radius=0.3 and height=5.56.\n",
        "# Area: 11.045839770021713\n",
        "# ===============================\n",
        "# Default radius=0.3 and height=5.56.\n",
        "# Updated: radius=3 and height=5.\n",
        "# Volume: 141.3716694115407"
      ],
      "metadata": {
        "id": "DVdU66-PJD-A"
      },
      "execution_count": null,
      "outputs": []
    },
    {
      "cell_type": "markdown",
      "source": [
        "# Task 9"
      ],
      "metadata": {
        "id": "FnqBj2xvJKVl"
      }
    },
    {
      "cell_type": "code",
      "source": [
        "class Student:\n",
        "  bracuStudents = 0\n",
        "  otherStudents = 0\n",
        "  totalStudents = 0\n",
        "  def __init__(self,name,dept,school=\"BRAC University\"):\n",
        "    self.name = name\n",
        "    self.dept = dept\n",
        "    if school!=\"BRAC University\": \n",
        "      self.school = school\n",
        "      Student.otherStudents += 1\n",
        "      Student.totalStudents += 1\n",
        "    else: \n",
        "      self.school = school\n",
        "      Student.bracuStudents += 1\n",
        "      Student.totalStudents += 1\n",
        "  def individualDetail(self):\n",
        "    print(f\"Name: {self.name}\")\n",
        "    print(f\"Department: {self.dept}\")\n",
        "    print(f\"Institution: {self.school}\")\n",
        "\n",
        "  @classmethod\n",
        "  def createStudent(cls,name,dept,school=\"BRAC University\"):\n",
        "    obj = Student(name,dept,school)\n",
        "    return obj\n",
        "\n",
        "  @classmethod\n",
        "  def printDetails(cls):\n",
        "    print(f\"Total Student(s): {cls.totalStudents}\")\n",
        "    print(f\"BRAC University Student(s): {cls.bracuStudents}\")\n",
        "    print(f\"Other Institution Student(s): {cls.otherStudents}\")\n",
        "\n",
        "# Write your code here\n",
        "Student.printDetails()\n",
        "print('#########################')\n",
        "mikasa = Student('Mikasa Ackerman', \"CSE\")\n",
        "mikasa.individualDetail()\n",
        "print('------------------------------------------')\n",
        "Student.printDetails()\n",
        "print('========================')\n",
        "harry = Student.createStudent('Harry Potter', \"Defence Against Dark Arts\", \"Hogwarts School\")\n",
        "harry.individualDetail()\n",
        "print('-------------------------------------------')\n",
        "Student.printDetails()\n",
        "print('=========================')\n",
        "levi = Student.createStudent(\"Levi Ackerman\", \"CSE\")\n",
        "levi.individualDetail()\n",
        "print('--------------------------------------------')\n",
        "Student.printDetails()\n",
        "\n",
        "# Output:\n",
        "# Total Student(s): 0\n",
        "# BRAC University Student(s): 0\n",
        "# Other Institution Student(s): 0\n",
        "# ################################\n",
        "# Name: Mikasa Ackerman\n",
        "# Department: CSE\n",
        "# Institution: BRAC University\n",
        "# ------------------------------------------------------\n",
        "# Total Student(s): 1\n",
        "# BRAC University Student(s): 1\n",
        "# Other Institution Student(s): 0\n",
        "# ===============================\n",
        "# Name: Harry Potter\n",
        "# Department: Defence Against Dark Arts\n",
        "# Institution: Hogwarts School\n",
        "# ------------------------------------------------------\n",
        "# Total Student(s): 2\n",
        "# BRAC University Student(s): 1\n",
        "# Other Institution Student(s): 1\n",
        "# ===============================\n",
        "# Name: Levi Ackerman\n",
        "# Department: CSE\n",
        "# Institution: BRAC University\n",
        "# ------------------------------------------------------\n",
        "# Total Student(s): 3\n",
        "# BRAC University Student(s): 2\n",
        "# Other Institution Student(s): 1"
      ],
      "metadata": {
        "id": "OBK6cO_yJEAv",
        "colab": {
          "base_uri": "https://localhost:8080/"
        },
        "outputId": "7818a5bd-5ae9-4275-d53b-56e4b413466a"
      },
      "execution_count": null,
      "outputs": [
        {
          "output_type": "stream",
          "name": "stdout",
          "text": [
            "Total Student(s): 0\n",
            "BRAC University Student(s): 0\n",
            "Other Institution Student(s): 0\n",
            "#########################\n",
            "Name: Mikasa Ackerman\n",
            "Department: CSE\n",
            "Institution: BRAC University\n",
            "------------------------------------------\n",
            "Total Student(s): 1\n",
            "BRAC University Student(s): 1\n",
            "Other Institution Student(s): 0\n",
            "========================\n",
            "Name: Harry Potter\n",
            "Department: Defence Against Dark Arts\n",
            "Institution: Hogwarts School\n",
            "-------------------------------------------\n",
            "Total Student(s): 2\n",
            "BRAC University Student(s): 1\n",
            "Other Institution Student(s): 1\n",
            "=========================\n",
            "Name: Levi Ackerman\n",
            "Department: CSE\n",
            "Institution: BRAC University\n",
            "--------------------------------------------\n",
            "Total Student(s): 3\n",
            "BRAC University Student(s): 2\n",
            "Other Institution Student(s): 1\n"
          ]
        }
      ]
    },
    {
      "cell_type": "markdown",
      "source": [
        "# Task 10"
      ],
      "metadata": {
        "id": "weJmlLM0JK6M"
      }
    },
    {
      "cell_type": "code",
      "source": [
        "class SultansDine:\n",
        "  branchesInfo = {}\n",
        "  branchesAmount = 0\n",
        "  totalSold = 0\n",
        "\n",
        "  def __init__(self,bra):\n",
        "    SultansDine.branchesAmount += 1\n",
        "    SultansDine.branchesInfo[bra] = 0\n",
        "\n",
        "    self.branchLocation = bra\n",
        "    self.soldB = 0\n",
        "  \n",
        "  def sellQuantity(self,no):\n",
        "    sold = no*400  \n",
        "    self.soldB += sold\n",
        "    SultansDine.branchesInfo[self.branchLocation] += sold\n",
        "    SultansDine.totalSold += sold\n",
        "\n",
        "  def branchInformation(self):\n",
        "    print(f\"Branch Name: {self.branchLocation} \")\n",
        "    print(f\"Branch Sell: {self.soldB} Taka\")\n",
        "\n",
        "  @classmethod\n",
        "  def details(cls):\n",
        "      print(f\"Total Number of branch(s): {cls.branchesAmount}\")\n",
        "      print(f\"Total Sell: {cls.totalSold} Taka\")\n",
        "      if cls.branchesAmount > 0:\n",
        "        for name,sold in cls.branchesInfo.items():\n",
        "          print(f\"# Branch Name: {name}, Branch Sell: {sold} Taka\")\n",
        "          print(f\"# Branch consists of total sell's: {round(((sold/cls.totalSold)*100),2)}%\")\n",
        "\n",
        "# Write your code here\n",
        "SultansDine.details()\n",
        "print('########################')\n",
        "dhanmodi = SultansDine('Dhanmondi')\n",
        "dhanmodi.sellQuantity(25)\n",
        "dhanmodi.branchInformation()\n",
        "print('-----------------------------------------')\n",
        "SultansDine.details()\n",
        "print('========================')\n",
        "baily_road = SultansDine('Baily Road')\n",
        "baily_road.sellQuantity(15)\n",
        "baily_road.branchInformation()\n",
        "print('-----------------------------------------')\n",
        "SultansDine.details()\n",
        "print('========================')\n",
        "gulshan = SultansDine('Gulshan')\n",
        "gulshan.sellQuantity(9)\n",
        "gulshan.branchInformation()\n",
        "print('-----------------------------------------')\n",
        "SultansDine.details()\n",
        "\n",
        "# Output:\n",
        "# Total Number of branch(s): 0\n",
        "# Total Sell: 0 Taka\n",
        "# #################################\n",
        "# Branch Name: Dhanmondi\n",
        "# Branch Sell: 10000 Taka\n",
        "# -----------------------------------------\n",
        "# Total Number of branch(s): 1\n",
        "# Total Sell: 10000 Taka\n",
        "# Branch Name: Dhanmondi, Branch Sell: 10000 Taka\n",
        "# Branch consists of total sell's: 100.00%\n",
        "# ================================\n",
        "# Branch Name: Baily Road\n",
        "# Branch Sell: 5250 Taka\n",
        "# -----------------------------------------\n",
        "# Total Number of branch(s): 2\n",
        "# Total Sell: 15250 Taka\n",
        "# Branch Name: Dhanmondi, Branch Sell: 10000 Taka\n",
        "# Branch consists of total sell's: 65.57%\n",
        "# Branch Name: Baily Road, Branch Sell: 5250 Taka\n",
        "# Branch consists of total sell's: 34.43%\n",
        "# ================================\n",
        "# Branch Name: Gulshan\n",
        "# Branch Sell: 2700 Taka\n",
        "# -----------------------------------------\n",
        "# Total Number of branch(s): 3\n",
        "# Total Sell: 17950 Taka\n",
        "# Branch Name: Dhanmondi, Branch Sell: 10000 Taka\n",
        "# Branch consists of total sell's: 55.71%\n",
        "# Branch Name: Baily Road, Branch Sell: 5250 Taka\n",
        "# Branch consists of total sell's: 29.25%\n",
        "# Branch Name: Gulshan, Branch Sell: 2700 Taka\n",
        "# Branch consists of total sell's: 15.04%"
      ],
      "metadata": {
        "id": "-bo90jX2JECs",
        "colab": {
          "base_uri": "https://localhost:8080/"
        },
        "outputId": "f8d7b81a-da15-4090-b241-2a3080142956"
      },
      "execution_count": 4,
      "outputs": [
        {
          "output_type": "stream",
          "name": "stdout",
          "text": [
            "Total Number of branch(s): 0\n",
            "Total Sell: 0 Taka\n",
            "########################\n",
            "Branch Name: Dhanmondi \n",
            "Branch Sell: 10000 Taka\n",
            "-----------------------------------------\n",
            "Total Number of branch(s): 1\n",
            "Total Sell: 10000 Taka\n",
            "# Branch Name: Dhanmondi, Branch Sell: 10000 Taka\n",
            "# Branch consists of total sell's: 100.0%\n",
            "========================\n",
            "Branch Name: Baily Road \n",
            "Branch Sell: 6000 Taka\n",
            "-----------------------------------------\n",
            "Total Number of branch(s): 2\n",
            "Total Sell: 16000 Taka\n",
            "# Branch Name: Dhanmondi, Branch Sell: 10000 Taka\n",
            "# Branch consists of total sell's: 62.5%\n",
            "# Branch Name: Baily Road, Branch Sell: 6000 Taka\n",
            "# Branch consists of total sell's: 37.5%\n",
            "========================\n",
            "Branch Name: Gulshan \n",
            "Branch Sell: 3600 Taka\n",
            "-----------------------------------------\n",
            "Total Number of branch(s): 3\n",
            "Total Sell: 19600 Taka\n",
            "# Branch Name: Dhanmondi, Branch Sell: 10000 Taka\n",
            "# Branch consists of total sell's: 51.02%\n",
            "# Branch Name: Baily Road, Branch Sell: 6000 Taka\n",
            "# Branch consists of total sell's: 30.61%\n",
            "# Branch Name: Gulshan, Branch Sell: 3600 Taka\n",
            "# Branch consists of total sell's: 18.37%\n"
          ]
        }
      ]
    },
    {
      "cell_type": "markdown",
      "source": [
        "# Task 11 (Tracing)"
      ],
      "metadata": {
        "id": "wushnazkzC-l"
      }
    },
    {
      "cell_type": "code",
      "source": [
        "class Puzzle:\n",
        "  x = 0\n",
        "  def methodA(self):\n",
        "    Puzzle.x = 5\n",
        "    z = Puzzle.x + self.methodB(Puzzle.x)\n",
        "    print(Puzzle.x, z)\n",
        "    z = self.methodB(z + 2) + Puzzle.x\n",
        "    print(Puzzle.x, z)\n",
        "    self.methodB(Puzzle.x, z)\n",
        "    print(Puzzle.x, z)\n",
        "\n",
        "  def methodB(self, *args):\n",
        "    if len(args) == 1:\n",
        "      y = args[0]\n",
        "      Puzzle.x = y + Puzzle.x\n",
        "      print(Puzzle.x, y)\n",
        "      return Puzzle.x + 3\n",
        "    else:\n",
        "      z, x = args\n",
        "      z = z + 1\n",
        "      x = x + 1\n",
        "      print(z, x)\n",
        "p = Puzzle()\n",
        "p.methodA()\n",
        "p.methodA()\n",
        "p = Puzzle()\n",
        "p.methodA()\n",
        "p.methodB(7)"
      ],
      "metadata": {
        "colab": {
          "base_uri": "https://localhost:8080/"
        },
        "id": "E_ndf27ArddD",
        "outputId": "3c5d963d-d07c-4cc9-d8f4-4c8fbf5ab62f"
      },
      "execution_count": null,
      "outputs": [
        {
          "output_type": "stream",
          "name": "stdout",
          "text": [
            "10 5\n",
            "10 18\n",
            "30 20\n",
            "30 63\n",
            "31 64\n",
            "30 63\n",
            "10 5\n",
            "10 18\n",
            "30 20\n",
            "30 63\n",
            "31 64\n",
            "30 63\n",
            "10 5\n",
            "10 18\n",
            "30 20\n",
            "30 63\n",
            "31 64\n",
            "30 63\n",
            "37 7\n"
          ]
        },
        {
          "output_type": "execute_result",
          "data": {
            "text/plain": [
              "40"
            ]
          },
          "metadata": {},
          "execution_count": 2
        }
      ]
    },
    {
      "cell_type": "markdown",
      "source": [
        "# Task 12 (Tracing)"
      ],
      "metadata": {
        "id": "tutOWXltzsIF"
      }
    },
    {
      "cell_type": "code",
      "source": [
        "class FinalT6A:\n",
        "  temp = 3\n",
        "\n",
        "  def __init__(self, x, p):\n",
        "    self.sum, self.y = 0, 2\n",
        "    FinalT6A.temp += 3\n",
        "    self.y = self.temp - p\n",
        "    self.sum = self.temp + x\n",
        "    print(x, self.y, self.sum)\n",
        "\n",
        "  def methodA(self):\n",
        "    x, y = 0, 0\n",
        "    y = y + self.y\n",
        "    x = self.y + 2 + self.temp\n",
        "    self.sum = x + y + self.methodB(self.temp, y)\n",
        "    print(x, y, self.sum)\n",
        "\n",
        "  def methodB(self, temp, n):\n",
        "    x = 0\n",
        "    FinalT6A.temp += 1\n",
        "    self.y = self.y + (FinalT6A.temp)\n",
        "    FinalT6A.temp -= 1\n",
        "    x = x + 2 + n\n",
        "    self.sum = self.sum + x + self.y\n",
        "    print(x, self.y, self.sum)\n",
        "    return self.sum\n",
        "\n",
        "q1 = FinalT6A(2,1)\n",
        "q1.methodA()\n",
        "q1.methodA()"
      ],
      "metadata": {
        "colab": {
          "base_uri": "https://localhost:8080/"
        },
        "id": "dqzprBt3rdfP",
        "outputId": "8b862644-db86-4be9-df7f-ebd68496465c"
      },
      "execution_count": null,
      "outputs": [
        {
          "output_type": "stream",
          "name": "stdout",
          "text": [
            "2 5 8\n",
            "7 12 27\n",
            "13 5 45\n",
            "14 19 78\n",
            "20 12 110\n"
          ]
        }
      ]
    },
    {
      "cell_type": "markdown",
      "source": [
        "# Extra ma'am task"
      ],
      "metadata": {
        "id": "pQRzY9sZqX9l"
      }
    },
    {
      "cell_type": "code",
      "source": [
        "class Toy:\n",
        "  count = 0\n",
        "  def __init__(self,name,tType):\n",
        "    Toy.count+=1   \n",
        "    if tType == 'plush' or tType == 'soft':\n",
        "      print(f\"A new soft toy named {name} has been created!\")\n",
        "      self.name = name\n",
        "      self.tType = tType\n",
        "      self.features = ['height']\n",
        "      self.feature = {}    \n",
        "    else:\n",
        "      print('Error! Toys can only be of \"soft\" or \"plush\" type')\n",
        "      self.name = None\n",
        "\n",
        "  def addCall(self):\n",
        "    print(f\"{self.name} did not get any calls :(\")\n",
        "\n",
        "  def addFeatureDetail(self,feature,measurement):\n",
        "    if feature in self.features:\n",
        "      self.feature[feature] = measurement\n",
        "      print(f\"New feature detail added for {self.name}:\")\n",
        "      print(f\"{feature} =  {measurement}\")\n",
        "    else:\n",
        "      print('Error! Cannot add detail that does not exist. Please use addFeature method first')\n",
        "  \n",
        "  def addFeature(self,f):\n",
        "    self.features.append(f)\n",
        "\n",
        "  def showName(self):\n",
        "    if self.name != None:\n",
        "      print(self.name)\n",
        "    else:\n",
        "      print(\"Toy does not have a name.\")\n",
        "\n",
        "  def setName(self,name):\n",
        "    self.name = name\n",
        "\n",
        "  def getName(self):\n",
        "    return self.name\n",
        "\n",
        "  def getAge(self):\n",
        "    return self.feature['age']\n",
        "\n",
        "  def getType(self):\n",
        "    return self.tType\n",
        "\n",
        "  @classmethod\n",
        "  def removeToy(cls,obj):\n",
        "    Toy.count -= 1\n",
        "\n",
        "Giraffe = Toy(\"Giraffe\", \"soft\")\n",
        "Giraffe.addCall()\n",
        "Giraffe.addFeatureDetail(\"height\", 10)\n",
        "Giraffe.addFeatureDetail(\"age\", 10)\n",
        "Giraffe.addFeature(\"age\")\n",
        "Giraffe.addFeatureDetail(\"age\", 10)\n",
        "Elephant = Toy(\"Elephant\", \"acd\")\n",
        "Elephant.showName()\n",
        "Giraffe.setName(\"babyGiraffe\")\n",
        "age_of_giraffe =Giraffe.getAge()\n",
        "type_of_giraffe = Giraffe.getType()\n",
        "\n",
        "print(Giraffe.getName(), \" is a\", age_of_giraffe,\" year old\", type_of_giraffe, \" type toy\")\n",
        "\n",
        "print(Toy.count)\n",
        "Toy.removeToy(\"babyGiraffe\")\n",
        "print(Toy.count)\n",
        "\n",
        "# output\n",
        "# A new soft toy named \"Giraffe\" has been created!\n",
        "# Giraffe did not get any calls :( \n",
        "# New feature detail added for Giraffe:\n",
        "# height =  10\n",
        "# Error! Cannot add detail that does not exist. Please use addFeature method first\n",
        "# New feature detail added for Giraffe:\n",
        "# age =  10\n",
        "# Error! Toys can only be of \"soft\" or \"plush\" type\n",
        "# Toy does not have a name. \n",
        "# babyGiraffe is a 10 year old soft type toy\n",
        "# 2\n",
        "# 1\n",
        "\n"
      ],
      "metadata": {
        "colab": {
          "base_uri": "https://localhost:8080/"
        },
        "id": "UPLC-NdyqYim",
        "outputId": "1c18a389-836d-4571-961c-962ee61a540a"
      },
      "execution_count": null,
      "outputs": [
        {
          "output_type": "stream",
          "name": "stdout",
          "text": [
            "A new soft toy named Giraffe has been created!\n",
            "Giraffe did not get any calls :(\n",
            "New feature detail added for Giraffe:\n",
            "height =  10\n",
            "Error! Cannot add detail that does not exist. Please use addFeature method first\n",
            "New feature detail added for Giraffe:\n",
            "age =  10\n",
            "Error! Toys can only be of \"soft\" or \"plush\" type\n",
            "Toy does not have a name.\n",
            "babyGiraffe  is a 10  year old soft  type toy\n",
            "2\n",
            "1\n"
          ]
        }
      ]
    }
  ]
}